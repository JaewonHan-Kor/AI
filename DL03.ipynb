{
 "cells": [
  {
   "cell_type": "code",
   "execution_count": 2,
   "id": "5b75a62c",
   "metadata": {},
   "outputs": [],
   "source": [
    "#라이브러리 설정\n",
    "import pandas as pd\n",
    "import numpy as np\n",
    "import tensorflow as tf\n",
    "import random\n",
    "\n",
    "#랜덤 시드 고정\n",
    "SEED=12\n",
    "random.seed(SEED)\n",
    "np.random.seed(SEED)\n",
    "tf.random.set_seed(SEED)"
   ]
  },
  {
   "cell_type": "code",
   "execution_count": 4,
   "id": "a3114fc3",
   "metadata": {},
   "outputs": [
    {
     "name": "stdout",
     "output_type": "stream",
     "text": [
      "(60000, 786) (10000, 785) (10000, 2)\n"
     ]
    }
   ],
   "source": [
    "train = pd.read_csv(\"train.csv\")\n",
    "test = pd.read_csv(\"test.csv\")\n",
    "submission = pd.read_csv(\"sample_submission.csv\")\n",
    "\n",
    "print(train.shape,test.shape, submission.shape)"
   ]
  },
  {
   "cell_type": "code",
   "execution_count": 5,
   "id": "f3af2f5e",
   "metadata": {},
   "outputs": [
    {
     "data": {
      "text/html": [
       "<div>\n",
       "<style scoped>\n",
       "    .dataframe tbody tr th:only-of-type {\n",
       "        vertical-align: middle;\n",
       "    }\n",
       "\n",
       "    .dataframe tbody tr th {\n",
       "        vertical-align: top;\n",
       "    }\n",
       "\n",
       "    .dataframe thead th {\n",
       "        text-align: right;\n",
       "    }\n",
       "</style>\n",
       "<table border=\"1\" class=\"dataframe\">\n",
       "  <thead>\n",
       "    <tr style=\"text-align: right;\">\n",
       "      <th></th>\n",
       "      <th>index</th>\n",
       "      <th>label</th>\n",
       "      <th>pixel1</th>\n",
       "      <th>pixel2</th>\n",
       "      <th>pixel3</th>\n",
       "      <th>pixel4</th>\n",
       "      <th>pixel5</th>\n",
       "      <th>pixel6</th>\n",
       "      <th>pixel7</th>\n",
       "      <th>pixel8</th>\n",
       "      <th>...</th>\n",
       "      <th>pixel775</th>\n",
       "      <th>pixel776</th>\n",
       "      <th>pixel777</th>\n",
       "      <th>pixel778</th>\n",
       "      <th>pixel779</th>\n",
       "      <th>pixel780</th>\n",
       "      <th>pixel781</th>\n",
       "      <th>pixel782</th>\n",
       "      <th>pixel783</th>\n",
       "      <th>pixel784</th>\n",
       "    </tr>\n",
       "  </thead>\n",
       "  <tbody>\n",
       "    <tr>\n",
       "      <th>0</th>\n",
       "      <td>0</td>\n",
       "      <td>2</td>\n",
       "      <td>0</td>\n",
       "      <td>0</td>\n",
       "      <td>0</td>\n",
       "      <td>0</td>\n",
       "      <td>0</td>\n",
       "      <td>0</td>\n",
       "      <td>0</td>\n",
       "      <td>0</td>\n",
       "      <td>...</td>\n",
       "      <td>0</td>\n",
       "      <td>0</td>\n",
       "      <td>0</td>\n",
       "      <td>0</td>\n",
       "      <td>0</td>\n",
       "      <td>0</td>\n",
       "      <td>0</td>\n",
       "      <td>0</td>\n",
       "      <td>0</td>\n",
       "      <td>0</td>\n",
       "    </tr>\n",
       "    <tr>\n",
       "      <th>1</th>\n",
       "      <td>1</td>\n",
       "      <td>9</td>\n",
       "      <td>0</td>\n",
       "      <td>0</td>\n",
       "      <td>0</td>\n",
       "      <td>0</td>\n",
       "      <td>0</td>\n",
       "      <td>0</td>\n",
       "      <td>0</td>\n",
       "      <td>0</td>\n",
       "      <td>...</td>\n",
       "      <td>0</td>\n",
       "      <td>0</td>\n",
       "      <td>0</td>\n",
       "      <td>0</td>\n",
       "      <td>0</td>\n",
       "      <td>0</td>\n",
       "      <td>0</td>\n",
       "      <td>0</td>\n",
       "      <td>0</td>\n",
       "      <td>0</td>\n",
       "    </tr>\n",
       "    <tr>\n",
       "      <th>2</th>\n",
       "      <td>2</td>\n",
       "      <td>6</td>\n",
       "      <td>0</td>\n",
       "      <td>0</td>\n",
       "      <td>0</td>\n",
       "      <td>0</td>\n",
       "      <td>0</td>\n",
       "      <td>0</td>\n",
       "      <td>0</td>\n",
       "      <td>5</td>\n",
       "      <td>...</td>\n",
       "      <td>0</td>\n",
       "      <td>0</td>\n",
       "      <td>0</td>\n",
       "      <td>30</td>\n",
       "      <td>43</td>\n",
       "      <td>0</td>\n",
       "      <td>0</td>\n",
       "      <td>0</td>\n",
       "      <td>0</td>\n",
       "      <td>0</td>\n",
       "    </tr>\n",
       "    <tr>\n",
       "      <th>3</th>\n",
       "      <td>3</td>\n",
       "      <td>0</td>\n",
       "      <td>0</td>\n",
       "      <td>0</td>\n",
       "      <td>0</td>\n",
       "      <td>1</td>\n",
       "      <td>2</td>\n",
       "      <td>0</td>\n",
       "      <td>0</td>\n",
       "      <td>0</td>\n",
       "      <td>...</td>\n",
       "      <td>3</td>\n",
       "      <td>0</td>\n",
       "      <td>0</td>\n",
       "      <td>0</td>\n",
       "      <td>0</td>\n",
       "      <td>1</td>\n",
       "      <td>0</td>\n",
       "      <td>0</td>\n",
       "      <td>0</td>\n",
       "      <td>0</td>\n",
       "    </tr>\n",
       "    <tr>\n",
       "      <th>4</th>\n",
       "      <td>4</td>\n",
       "      <td>3</td>\n",
       "      <td>0</td>\n",
       "      <td>0</td>\n",
       "      <td>0</td>\n",
       "      <td>0</td>\n",
       "      <td>0</td>\n",
       "      <td>0</td>\n",
       "      <td>0</td>\n",
       "      <td>0</td>\n",
       "      <td>...</td>\n",
       "      <td>0</td>\n",
       "      <td>0</td>\n",
       "      <td>0</td>\n",
       "      <td>0</td>\n",
       "      <td>0</td>\n",
       "      <td>0</td>\n",
       "      <td>0</td>\n",
       "      <td>0</td>\n",
       "      <td>0</td>\n",
       "      <td>0</td>\n",
       "    </tr>\n",
       "  </tbody>\n",
       "</table>\n",
       "<p>5 rows × 786 columns</p>\n",
       "</div>"
      ],
      "text/plain": [
       "   index  label  pixel1  pixel2  pixel3  pixel4  pixel5  pixel6  pixel7  \\\n",
       "0      0      2       0       0       0       0       0       0       0   \n",
       "1      1      9       0       0       0       0       0       0       0   \n",
       "2      2      6       0       0       0       0       0       0       0   \n",
       "3      3      0       0       0       0       1       2       0       0   \n",
       "4      4      3       0       0       0       0       0       0       0   \n",
       "\n",
       "   pixel8  ...  pixel775  pixel776  pixel777  pixel778  pixel779  pixel780  \\\n",
       "0       0  ...         0         0         0         0         0         0   \n",
       "1       0  ...         0         0         0         0         0         0   \n",
       "2       5  ...         0         0         0        30        43         0   \n",
       "3       0  ...         3         0         0         0         0         1   \n",
       "4       0  ...         0         0         0         0         0         0   \n",
       "\n",
       "   pixel781  pixel782  pixel783  pixel784  \n",
       "0         0         0         0         0  \n",
       "1         0         0         0         0  \n",
       "2         0         0         0         0  \n",
       "3         0         0         0         0  \n",
       "4         0         0         0         0  \n",
       "\n",
       "[5 rows x 786 columns]"
      ]
     },
     "execution_count": 5,
     "metadata": {},
     "output_type": "execute_result"
    }
   ],
   "source": [
    "#train 데이터 보기\n",
    "train.head()"
   ]
  },
  {
   "cell_type": "code",
   "execution_count": 7,
   "id": "ec1f8c42",
   "metadata": {},
   "outputs": [
    {
     "data": {
      "text/plain": [
       "(60000, 28, 28)"
      ]
     },
     "execution_count": 7,
     "metadata": {},
     "output_type": "execute_result"
    }
   ],
   "source": [
    "#train 데이터를 28*28 이미지로 변환\n",
    "train_images = train.loc[:,'pixel1':].values.reshape(-1,28,28)\n",
    "train_images.shape"
   ]
  },
  {
   "cell_type": "code",
   "execution_count": 8,
   "id": "c2e6ec11",
   "metadata": {},
   "outputs": [
    {
     "data": {
      "text/plain": [
       "<matplotlib.image.AxesImage at 0x236331d4070>"
      ]
     },
     "execution_count": 8,
     "metadata": {},
     "output_type": "execute_result"
    },
    {
     "data": {
      "image/png": "[encoded data removed]",
      "text/plain": [
       "<Figure size 432x288 with 1 Axes>"
      ]
     },
     "metadata": {
      "needs_background": "light"
     },
     "output_type": "display_data"
    }
   ],
   "source": [
    "#첫번째 이미지 출력\n",
    "import matplotlib.pyplot as plt\n",
    "plt.imshow(train_images[0])"
   ]
  },
  {
   "cell_type": "code",
   "execution_count": 9,
   "id": "f268d25a",
   "metadata": {},
   "outputs": [
    {
     "data": {
      "text/plain": [
       "array([2, 9, 6, 0, 3, 4, 5, 8, 7, 1], dtype=int64)"
      ]
     },
     "execution_count": 9,
     "metadata": {},
     "output_type": "execute_result"
    }
   ],
   "source": [
    "#목표 레이블\n",
    "y_train = train.loc[:,'label']\n",
    "y_train.unique()"
   ]
  },
  {
   "cell_type": "code",
   "execution_count": 10,
   "id": "c827fb76",
   "metadata": {},
   "outputs": [
    {
     "name": "stdout",
     "output_type": "stream",
     "text": [
      "2\n",
      "Pullover\n"
     ]
    }
   ],
   "source": [
    "#숫자 레이블을 실제 레이블과 연결하여 확인\n",
    "target_values = {0:'T-shirt/top',\n",
    "                1:'Trouser',\n",
    "                2:'Pullover',\n",
    "                3:'Dress',\n",
    "                4:'Coat',\n",
    "                5:'Sandal',\n",
    "                6:'Shirt',\n",
    "                7:'Sneaker',\n",
    "                8:'Bag',\n",
    "                9:'Ankle boot'}\n",
    "print(y_train[0])\n",
    "print(target_values[y_train[0]])"
   ]
  },
  {
   "cell_type": "code",
   "execution_count": 13,
   "id": "13d3d213",
   "metadata": {},
   "outputs": [
    {
     "data": {
      "text/plain": [
       "(10000, 28, 28)"
      ]
     },
     "execution_count": 13,
     "metadata": {},
     "output_type": "execute_result"
    }
   ],
   "source": [
    "#test 데이터를 28*28 이미지로 변환\n",
    "test_images = test.loc[:,'pixel1':].values.reshape(-1,28,28)\n",
    "test_images.shape"
   ]
  },
  {
   "cell_type": "code",
   "execution_count": 14,
   "id": "75e4dd16",
   "metadata": {},
   "outputs": [
    {
     "data": {
      "text/plain": [
       "<matplotlib.image.AxesImage at 0x236332cedf0>"
      ]
     },
     "execution_count": 14,
     "metadata": {},
     "output_type": "execute_result"
    },
    {
     "data": {
      "image/png": "[encoded data removed]",
      "text/plain": [
       "<Figure size 432x288 with 1 Axes>"
      ]
     },
     "metadata": {
      "needs_background": "light"
     },
     "output_type": "display_data"
    }
   ],
   "source": [
    "#500번째 test 이미지 출력\n",
    "plt.imshow(test_images[499])"
   ]
  },
  {
   "cell_type": "code",
   "execution_count": 15,
   "id": "30238576",
   "metadata": {},
   "outputs": [
    {
     "name": "stdout",
     "output_type": "stream",
     "text": [
      "최소값: 0.0\n",
      "최대값: 1.0\n"
     ]
    }
   ],
   "source": [
    "#피처 스케일 맞추기\n",
    "X_train = train_images / 255\n",
    "X_test = test_images / 255\n",
    "print(\"최소값:\",X_train[0].min())\n",
    "print(\"최대값:\",X_train[0].max())"
   ]
  },
  {
   "cell_type": "code",
   "execution_count": 16,
   "id": "36791b3e",
   "metadata": {},
   "outputs": [
    {
     "name": "stdout",
     "output_type": "stream",
     "text": [
      "변환 전: (60000, 28, 28) (10000, 28, 28)\n",
      "변환 후: (60000, 28, 28, 1) (10000, 28, 28, 1)\n"
     ]
    }
   ],
   "source": [
    "#채널 차원 추가\n",
    "print(\"변환 전:\",X_train.shape, X_test.shape)\n",
    "X_train = np.expand_dims(X_train,axis=-1)\n",
    "X_test = np.expand_dims(X_test,axis=-1)\n",
    "print(\"변환 후:\",X_train.shape, X_test.shape)"
   ]
  },
  {
   "cell_type": "code",
   "execution_count": 17,
   "id": "596c1f7b",
   "metadata": {},
   "outputs": [
    {
     "name": "stdout",
     "output_type": "stream",
     "text": [
      "학습 데이터셋 크기: (48000, 28, 28, 1) (48000,)\n",
      "검증 데이터셋 크기: (12000, 28, 28, 1) (12000,)\n"
     ]
    }
   ],
   "source": [
    "#Train - Validation 데이터 구분\n",
    "from sklearn.model_selection import train_test_split\n",
    "X_tr, X_val, y_tr, y_val = train_test_split(X_train, y_train, test_size=0.2,\n",
    "                                           stratify=y_train,\n",
    "                                           shuffle=True, random_state=SEED)\n",
    "print(\"학습 데이터셋 크기:\", X_tr.shape, y_tr.shape)\n",
    "print(\"검증 데이터셋 크기:\", X_val.shape, y_val.shape)"
   ]
  },
  {
   "cell_type": "code",
   "execution_count": 19,
   "id": "b9126c37",
   "metadata": {},
   "outputs": [
    {
     "name": "stdout",
     "output_type": "stream",
     "text": [
      "Model: \"sequential_1\"\n",
      "_________________________________________________________________\n",
      " Layer (type)                Output Shape              Param #   \n",
      "=================================================================\n",
      " flatten_1 (Flatten)         (None, 784)               0         \n",
      "                                                                 \n",
      " dense_1 (Dense)             (None, 64)                50240     \n",
      "                                                                 \n",
      " dense_2 (Dense)             (None, 10)                650       \n",
      "                                                                 \n",
      "=================================================================\n",
      "Total params: 50,890\n",
      "Trainable params: 50,890\n",
      "Non-trainable params: 0\n",
      "_________________________________________________________________\n"
     ]
    }
   ],
   "source": [
    "from tensorflow.keras.models import Sequential\n",
    "from tensorflow.keras.layers import Flatten, Dense\n",
    "mlp_model = Sequential()\n",
    "mlp_model.add(Flatten(input_shape=[28,28]))\n",
    "mlp_model.add(Dense(units=64, activation='relu'))\n",
    "mlp_model.add(Dense(units=10,activation='softmax'))\n",
    "\n",
    "mlp_model.compile(optimizer='adam', loss='sparse_categorical_crossentropy',\n",
    "                 metrics=['acc'])\n",
    "\n",
    "mlp_model.summary()"
   ]
  },
  {
   "cell_type": "code",
   "execution_count": 20,
   "id": "77d01dd4",
   "metadata": {},
   "outputs": [
    {
     "name": "stdout",
     "output_type": "stream",
     "text": [
      "Epoch 1/20\n",
      "750/750 - 3s - loss: 0.5718 - acc: 0.8039 - val_loss: 0.4434 - val_acc: 0.8478 - 3s/epoch - 4ms/step\n",
      "Epoch 2/20\n",
      "750/750 - 2s - loss: 0.4205 - acc: 0.8522 - val_loss: 0.4007 - val_acc: 0.8606 - 2s/epoch - 3ms/step\n",
      "Epoch 3/20\n",
      "750/750 - 2s - loss: 0.3852 - acc: 0.8642 - val_loss: 0.3886 - val_acc: 0.8625 - 2s/epoch - 2ms/step\n",
      "Epoch 4/20\n",
      "750/750 - 2s - loss: 0.3616 - acc: 0.8718 - val_loss: 0.3860 - val_acc: 0.8679 - 2s/epoch - 3ms/step\n",
      "Epoch 5/20\n",
      "750/750 - 2s - loss: 0.3453 - acc: 0.8751 - val_loss: 0.3741 - val_acc: 0.8688 - 2s/epoch - 3ms/step\n",
      "Epoch 6/20\n",
      "750/750 - 2s - loss: 0.3265 - acc: 0.8838 - val_loss: 0.3544 - val_acc: 0.8774 - 2s/epoch - 2ms/step\n",
      "Epoch 7/20\n",
      "750/750 - 2s - loss: 0.3155 - acc: 0.8858 - val_loss: 0.3402 - val_acc: 0.8814 - 2s/epoch - 3ms/step\n",
      "Epoch 8/20\n",
      "750/750 - 2s - loss: 0.3012 - acc: 0.8919 - val_loss: 0.3518 - val_acc: 0.8750 - 2s/epoch - 3ms/step\n",
      "Epoch 9/20\n",
      "750/750 - 2s - loss: 0.2930 - acc: 0.8924 - val_loss: 0.3362 - val_acc: 0.8822 - 2s/epoch - 3ms/step\n",
      "Epoch 10/20\n",
      "750/750 - 2s - loss: 0.2854 - acc: 0.8951 - val_loss: 0.3618 - val_acc: 0.8769 - 2s/epoch - 3ms/step\n",
      "Epoch 11/20\n",
      "750/750 - 2s - loss: 0.2758 - acc: 0.8987 - val_loss: 0.3477 - val_acc: 0.8788 - 2s/epoch - 3ms/step\n",
      "Epoch 12/20\n",
      "750/750 - 2s - loss: 0.2688 - acc: 0.9001 - val_loss: 0.3474 - val_acc: 0.8793 - 2s/epoch - 3ms/step\n",
      "Epoch 13/20\n",
      "750/750 - 2s - loss: 0.2615 - acc: 0.9031 - val_loss: 0.3375 - val_acc: 0.8823 - 2s/epoch - 3ms/step\n",
      "Epoch 14/20\n",
      "750/750 - 2s - loss: 0.2557 - acc: 0.9066 - val_loss: 0.3258 - val_acc: 0.8857 - 2s/epoch - 2ms/step\n",
      "Epoch 15/20\n",
      "750/750 - 2s - loss: 0.2508 - acc: 0.9076 - val_loss: 0.3301 - val_acc: 0.8839 - 2s/epoch - 3ms/step\n",
      "Epoch 16/20\n",
      "750/750 - 2s - loss: 0.2438 - acc: 0.9099 - val_loss: 0.3274 - val_acc: 0.8880 - 2s/epoch - 3ms/step\n",
      "Epoch 17/20\n",
      "750/750 - 2s - loss: 0.2400 - acc: 0.9109 - val_loss: 0.3288 - val_acc: 0.8882 - 2s/epoch - 3ms/step\n",
      "Epoch 18/20\n",
      "750/750 - 2s - loss: 0.2351 - acc: 0.9137 - val_loss: 0.3351 - val_acc: 0.8819 - 2s/epoch - 3ms/step\n",
      "Epoch 19/20\n",
      "750/750 - 2s - loss: 0.2302 - acc: 0.9141 - val_loss: 0.3364 - val_acc: 0.8866 - 2s/epoch - 3ms/step\n",
      "Epoch 20/20\n",
      "750/750 - 2s - loss: 0.2246 - acc: 0.9169 - val_loss: 0.3597 - val_acc: 0.8782 - 2s/epoch - 3ms/step\n"
     ]
    }
   ],
   "source": [
    "mlp_history = mlp_model.fit(X_tr, y_tr, batch_size=64, epochs=20,\n",
    "                           validation_data = (X_val, y_val),\n",
    "                           verbose=2)"
   ]
  },
  {
   "cell_type": "code",
   "execution_count": 26,
   "id": "dc9538b9",
   "metadata": {},
   "outputs": [
    {
     "data": {
      "image/png": "[encoded data removed]",
      "text/plain": [
       "<Figure size 360x360 with 1 Axes>"
      ]
     },
     "metadata": {
      "needs_background": "light"
     },
     "output_type": "display_data"
    }
   ],
   "source": [
    "#손실 함수 그래프\n",
    "def plot_loss_curve(history, total_epoch=10, start=1):\n",
    "    plt.figure(figsize=(5,5))\n",
    "    plt.plot(range(start,total_epoch + 1),\n",
    "            history.history['loss'][start-1:total_epoch],\n",
    "            label='Train')\n",
    "    plt.plot(range(start,total_epoch + 1),\n",
    "            history.history['val_loss'][start-1:total_epoch],\n",
    "            label='Validation')\n",
    "    plt.xlabel('Epochs')\n",
    "    plt.ylabel('Loss')\n",
    "    plt.legend()\n",
    "    plt.show()\n",
    "    \n",
    "plot_loss_curve(history=mlp_history, total_epoch=20, start=1)"
   ]
  },
  {
   "cell_type": "code",
   "execution_count": 27,
   "id": "7d976dca",
   "metadata": {},
   "outputs": [],
   "source": [
    "#합성곱 신경망(CNN)"
   ]
  },
  {
   "cell_type": "code",
   "execution_count": 31,
   "id": "a5d849d1",
   "metadata": {},
   "outputs": [
    {
     "name": "stdout",
     "output_type": "stream",
     "text": [
      "Model: \"sequential_4\"\n",
      "_________________________________________________________________\n",
      " Layer (type)                Output Shape              Param #   \n",
      "=================================================================\n",
      " conv2d_1 (Conv2D)           (None, 26, 26, 16)        160       \n",
      "                                                                 \n",
      " max_pooling2d_1 (MaxPooling  (None, 13, 13, 16)       0         \n",
      " 2D)                                                             \n",
      "                                                                 \n",
      " flatten_3 (Flatten)         (None, 2704)              0         \n",
      "                                                                 \n",
      " dense_5 (Dense)             (None, 64)                173120    \n",
      "                                                                 \n",
      " dense_6 (Dense)             (None, 10)                650       \n",
      "                                                                 \n",
      "=================================================================\n",
      "Total params: 173,930\n",
      "Trainable params: 173,930\n",
      "Non-trainable params: 0\n",
      "_________________________________________________________________\n"
     ]
    }
   ],
   "source": [
    "from tensorflow.keras.layers import Conv2D, MaxPooling2D\n",
    "cnn_model = Sequential()\n",
    "cnn_model.add(Conv2D(filters=16, kernel_size=(3,3),\n",
    "                    activation='relu',input_shape=[28,28,1]))\n",
    "cnn_model.add(MaxPooling2D(pool_size=(2,2)))\n",
    "cnn_model.add(Flatten())\n",
    "cnn_model.add(Dense(units=64, activation='relu'))\n",
    "cnn_model.add(Dense(units=10, activation='softmax'))\n",
    "\n",
    "cnn_model.compile(optimizer='adam',\n",
    "                 loss='sparse_categorical_crossentropy',\n",
    "                 metrics=['acc'])\n",
    "cnn_model.summary()"
   ]
  },
  {
   "cell_type": "code",
   "execution_count": 32,
   "id": "8706600b",
   "metadata": {},
   "outputs": [
    {
     "name": "stdout",
     "output_type": "stream",
     "text": [
      "Epoch 1/20\n",
      "750/750 - 10s - loss: 0.5017 - acc: 0.8232 - val_loss: 0.3717 - val_acc: 0.8732 - 10s/epoch - 14ms/step\n",
      "Epoch 2/20\n",
      "750/750 - 10s - loss: 0.3483 - acc: 0.8767 - val_loss: 0.3293 - val_acc: 0.8849 - 10s/epoch - 13ms/step\n",
      "Epoch 3/20\n",
      "750/750 - 10s - loss: 0.3049 - acc: 0.8918 - val_loss: 0.3203 - val_acc: 0.8872 - 10s/epoch - 14ms/step\n",
      "Epoch 4/20\n",
      "750/750 - 11s - loss: 0.2762 - acc: 0.9009 - val_loss: 0.3042 - val_acc: 0.8891 - 11s/epoch - 14ms/step\n",
      "Epoch 5/20\n",
      "750/750 - 10s - loss: 0.2545 - acc: 0.9080 - val_loss: 0.2983 - val_acc: 0.8958 - 10s/epoch - 14ms/step\n",
      "Epoch 6/20\n",
      "750/750 - 12s - loss: 0.2353 - acc: 0.9160 - val_loss: 0.2781 - val_acc: 0.9014 - 12s/epoch - 17ms/step\n",
      "Epoch 7/20\n",
      "750/750 - 12s - loss: 0.2148 - acc: 0.9229 - val_loss: 0.2739 - val_acc: 0.9041 - 12s/epoch - 16ms/step\n",
      "Epoch 8/20\n",
      "750/750 - 10s - loss: 0.1998 - acc: 0.9285 - val_loss: 0.2720 - val_acc: 0.9062 - 10s/epoch - 14ms/step\n",
      "Epoch 9/20\n",
      "750/750 - 12s - loss: 0.1864 - acc: 0.9335 - val_loss: 0.2756 - val_acc: 0.9076 - 12s/epoch - 16ms/step\n",
      "Epoch 10/20\n",
      "750/750 - 12s - loss: 0.1751 - acc: 0.9378 - val_loss: 0.2774 - val_acc: 0.9084 - 12s/epoch - 16ms/step\n",
      "Epoch 11/20\n",
      "750/750 - 10s - loss: 0.1623 - acc: 0.9414 - val_loss: 0.2697 - val_acc: 0.9109 - 10s/epoch - 13ms/step\n",
      "Epoch 12/20\n",
      "750/750 - 9s - loss: 0.1529 - acc: 0.9450 - val_loss: 0.2997 - val_acc: 0.9001 - 9s/epoch - 13ms/step\n",
      "Epoch 13/20\n",
      "750/750 - 9s - loss: 0.1394 - acc: 0.9514 - val_loss: 0.2805 - val_acc: 0.9053 - 9s/epoch - 13ms/step\n",
      "Epoch 14/20\n",
      "750/750 - 10s - loss: 0.1304 - acc: 0.9540 - val_loss: 0.2755 - val_acc: 0.9103 - 10s/epoch - 13ms/step\n",
      "Epoch 15/20\n",
      "750/750 - 10s - loss: 0.1192 - acc: 0.9574 - val_loss: 0.2860 - val_acc: 0.9094 - 10s/epoch - 14ms/step\n",
      "Epoch 16/20\n",
      "750/750 - 10s - loss: 0.1128 - acc: 0.9603 - val_loss: 0.2876 - val_acc: 0.9143 - 10s/epoch - 13ms/step\n",
      "Epoch 17/20\n",
      "750/750 - 9s - loss: 0.1044 - acc: 0.9632 - val_loss: 0.3095 - val_acc: 0.9081 - 9s/epoch - 12ms/step\n",
      "Epoch 18/20\n",
      "750/750 - 10s - loss: 0.0958 - acc: 0.9662 - val_loss: 0.3107 - val_acc: 0.9091 - 10s/epoch - 13ms/step\n",
      "Epoch 19/20\n",
      "750/750 - 10s - loss: 0.0886 - acc: 0.9688 - val_loss: 0.3117 - val_acc: 0.9118 - 10s/epoch - 14ms/step\n",
      "Epoch 20/20\n",
      "750/750 - 11s - loss: 0.0810 - acc: 0.9726 - val_loss: 0.3549 - val_acc: 0.9065 - 11s/epoch - 15ms/step\n"
     ]
    }
   ],
   "source": [
    "cnn_history = cnn_model.fit(X_tr, y_tr, batch_size=64, epochs=20,\n",
    "                           validation_data=(X_val,y_val),\n",
    "                           verbose=2)"
   ]
  },
  {
   "cell_type": "code",
   "execution_count": 33,
   "id": "6da4d4f7",
   "metadata": {},
   "outputs": [
    {
     "data": {
      "image/png": "[encoded data removed]",
      "text/plain": [
       "<Figure size 360x360 with 1 Axes>"
      ]
     },
     "metadata": {
      "needs_background": "light"
     },
     "output_type": "display_data"
    }
   ],
   "source": [
    "plot_loss_curve(history=cnn_history, total_epoch=20, start=1)"
   ]
  },
  {
   "cell_type": "code",
   "execution_count": 34,
   "id": "4bfeb5aa",
   "metadata": {},
   "outputs": [
    {
     "name": "stdout",
     "output_type": "stream",
     "text": [
      "Model: \"sequential_5\"\n",
      "_________________________________________________________________\n",
      " Layer (type)                Output Shape              Param #   \n",
      "=================================================================\n",
      " conv2d_2 (Conv2D)           (None, 26, 26, 16)        160       \n",
      "                                                                 \n",
      " max_pooling2d_2 (MaxPooling  (None, 13, 13, 16)       0         \n",
      " 2D)                                                             \n",
      "                                                                 \n",
      " flatten_4 (Flatten)         (None, 2704)              0         \n",
      "                                                                 \n",
      " dense_7 (Dense)             (None, 64)                173120    \n",
      "                                                                 \n",
      " dropout (Dropout)           (None, 64)                0         \n",
      "                                                                 \n",
      " dense_8 (Dense)             (None, 10)                650       \n",
      "                                                                 \n",
      "=================================================================\n",
      "Total params: 173,930\n",
      "Trainable params: 173,930\n",
      "Non-trainable params: 0\n",
      "_________________________________________________________________\n"
     ]
    }
   ],
   "source": [
    "#과대적합 방지\n",
    "from tensorflow.keras.layers import Dropout\n",
    "def build_cnn():\n",
    "    model = Sequential()\n",
    "    model.add(Conv2D(filters=16, kernel_size=(3,3),\n",
    "                    activation='relu', input_shape=[28,28,1]))\n",
    "    model.add(MaxPooling2D(pool_size=(2,2)))\n",
    "    model.add(Flatten())\n",
    "    model.add(Dense(units=64, activation='relu'))\n",
    "    model.add(Dropout(rate=0.5))\n",
    "    model.add(Dense(units=10, activation='softmax'))\n",
    "    \n",
    "    model.compile(optimizer='adam',\n",
    "                 loss='sparse_categorical_crossentropy',\n",
    "                 metrics=['acc'])\n",
    "    \n",
    "    return model\n",
    "\n",
    "cnn_model = build_cnn()\n",
    "cnn_model.summary()"
   ]
  },
  {
   "cell_type": "code",
   "execution_count": 40,
   "id": "ce7d8dfd",
   "metadata": {},
   "outputs": [],
   "source": [
    "from tensorflow.keras.callbacks import EarlyStopping\n",
    "early_stopping = EarlyStopping(monitor='val_loss', patience=10)\n",
    "\n",
    "cnn_history = cnn_model.fit(X_tr, y_tr, batch_size=64, epochs=100,\n",
    "                           validation_data = (X_val, y_val),\n",
    "                           callbacks=[early_stopping],\n",
    "                           verbose=0)"
   ]
  },
  {
   "cell_type": "code",
   "execution_count": 42,
   "id": "a265fb97",
   "metadata": {},
   "outputs": [
    {
     "data": {
      "image/png": "[encoded data removed]",
      "text/plain": [
       "<Figure size 720x360 with 2 Axes>"
      ]
     },
     "metadata": {
      "needs_background": "light"
     },
     "output_type": "display_data"
    }
   ],
   "source": [
    "# 20 epoch까지 손실 함수와 정확도를 그래프로 나타내기\n",
    "start = 1\n",
    "end = 20\n",
    "\n",
    "fig, axes = plt.subplots(1,2, figsize=(10,5))\n",
    "axes[0].plot(range(start, end), cnn_history.history['loss'][start-1:end], label='Train')\n",
    "axes[0].plot(range(start, end), cnn_history.history['val_loss'][start-1:end], label='Validation')\n",
    "axes[0].set_title('Loss')\n",
    "axes[0].legend()\n",
    "\n",
    "axes[1].plot(range(start, end), cnn_history.history['acc'][start-1:end], label='Train')\n",
    "axes[1].plot(range(start, end), cnn_history.history['val_acc'][start-1:end], label='Validation')\n",
    "axes[1].set_title('Accuracy')\n",
    "axes[1].legend()\n",
    "plt.show()"
   ]
  },
  {
   "cell_type": "code",
   "execution_count": 43,
   "id": "77d99b54",
   "metadata": {},
   "outputs": [
    {
     "name": "stdout",
     "output_type": "stream",
     "text": [
      "375/375 [==============================] - 2s 5ms/step - loss: 0.2993 - acc: 0.9118\n"
     ]
    },
    {
     "data": {
      "text/plain": [
       "[0.2992626428604126, 0.9117500185966492]"
      ]
     },
     "execution_count": 43,
     "metadata": {},
     "output_type": "execute_result"
    }
   ],
   "source": [
    "cnn_model.evaluate(X_val, y_val)"
   ]
  },
  {
   "cell_type": "code",
   "execution_count": 44,
   "id": "9b2cf49a",
   "metadata": {},
   "outputs": [
    {
     "name": "stdout",
     "output_type": "stream",
     "text": [
      "313/313 [==============================] - 1s 4ms/step\n"
     ]
    },
    {
     "data": {
      "text/plain": [
       "array([0, 1, 2, 2, 3, 6, 8, 6, 5, 0], dtype=int64)"
      ]
     },
     "execution_count": 44,
     "metadata": {},
     "output_type": "execute_result"
    }
   ],
   "source": [
    "y_pred_proba = cnn_model.predict(X_test)\n",
    "y_pred_classes = np.argmax(y_pred_proba, axis=-1)\n",
    "y_pred_classes[:10]"
   ]
  },
  {
   "cell_type": "code",
   "execution_count": 45,
   "id": "15b9df62",
   "metadata": {},
   "outputs": [
    {
     "name": "stdout",
     "output_type": "stream",
     "text": [
      "Epoch 1/100\n",
      "750/750 - 10s - loss: 0.6509 - acc: 0.7716 - val_loss: 0.3862 - val_acc: 0.8658 - 10s/epoch - 14ms/step\n",
      "Epoch 2/100\n",
      "750/750 - 12s - loss: 0.4480 - acc: 0.8440 - val_loss: 0.3335 - val_acc: 0.8812 - 12s/epoch - 17ms/step\n",
      "Epoch 3/100\n",
      "750/750 - 11s - loss: 0.3946 - acc: 0.8614 - val_loss: 0.3163 - val_acc: 0.8873 - 11s/epoch - 14ms/step\n",
      "Epoch 4/100\n",
      "750/750 - 10s - loss: 0.3629 - acc: 0.8725 - val_loss: 0.2989 - val_acc: 0.8901 - 10s/epoch - 14ms/step\n",
      "Epoch 5/100\n",
      "750/750 - 11s - loss: 0.3425 - acc: 0.8781 - val_loss: 0.2875 - val_acc: 0.8953 - 11s/epoch - 14ms/step\n",
      "Epoch 6/100\n",
      "750/750 - 11s - loss: 0.3262 - acc: 0.8833 - val_loss: 0.2858 - val_acc: 0.8950 - 11s/epoch - 14ms/step\n",
      "Epoch 7/100\n",
      "750/750 - 10s - loss: 0.3091 - acc: 0.8903 - val_loss: 0.2760 - val_acc: 0.9013 - 10s/epoch - 13ms/step\n",
      "Epoch 8/100\n",
      "750/750 - 10s - loss: 0.2955 - acc: 0.8938 - val_loss: 0.2680 - val_acc: 0.9036 - 10s/epoch - 13ms/step\n",
      "Epoch 9/100\n",
      "750/750 - 10s - loss: 0.2880 - acc: 0.8972 - val_loss: 0.2609 - val_acc: 0.9071 - 10s/epoch - 14ms/step\n",
      "Epoch 10/100\n",
      "750/750 - 13s - loss: 0.2736 - acc: 0.9010 - val_loss: 0.2610 - val_acc: 0.9070 - 13s/epoch - 17ms/step\n",
      "Epoch 11/100\n",
      "750/750 - 12s - loss: 0.2641 - acc: 0.9037 - val_loss: 0.2602 - val_acc: 0.9068 - 12s/epoch - 16ms/step\n",
      "Epoch 12/100\n",
      "\n",
      "\n",
      "목표 정확도 달성: 검증 정확도 0.9103\n",
      "750/750 - 11s - loss: 0.2548 - acc: 0.9072 - val_loss: 0.2577 - val_acc: 0.9103 - 11s/epoch - 15ms/step\n"
     ]
    }
   ],
   "source": [
    "#사용자 정의 콜백 함수\n",
    "from tensorflow.keras.callbacks import Callback\n",
    "\n",
    "class my_callback(Callback):\n",
    "    def on_epoch_end(self, epoch, logs={}):\n",
    "        if(logs.get('val_acc') > 0.91):\n",
    "            self.model.stop_training = True\n",
    "            print('\\n')\n",
    "            print(\"목표 정확도 달성: 검증 정확도 %.4f\"%logs.get('val_acc'))\n",
    "\n",
    "my_callback = my_callback()\n",
    "\n",
    "#Best Model 저장\n",
    "from tensorflow.keras.callbacks import ModelCheckpoint\n",
    "\n",
    "best_model_path = \"best_cnn_model.h5\"\n",
    "save_best_model = ModelCheckpoint(best_model_path, monitor='val_loss',\n",
    "                                 save_best_only=True, save_weights_only = False)\n",
    "\n",
    "#CNN 모델 학습\n",
    "cnn_model = build_cnn()\n",
    "cnn_history = cnn_model.fit(X_tr, y_tr, batch_size=64, epochs=100,\n",
    "                           validation_data=(X_val,y_val),\n",
    "                           callbacks=[my_callback, save_best_model],\n",
    "                           verbose=2)"
   ]
  },
  {
   "cell_type": "code",
   "execution_count": 47,
   "id": "6c513521",
   "metadata": {},
   "outputs": [
    {
     "name": "stdout",
     "output_type": "stream",
     "text": [
      "Model: \"sequential_6\"\n",
      "_________________________________________________________________\n",
      " Layer (type)                Output Shape              Param #   \n",
      "=================================================================\n",
      " conv2d_3 (Conv2D)           (None, 26, 26, 16)        160       \n",
      "                                                                 \n",
      " max_pooling2d_3 (MaxPooling  (None, 13, 13, 16)       0         \n",
      " 2D)                                                             \n",
      "                                                                 \n",
      " flatten_5 (Flatten)         (None, 2704)              0         \n",
      "                                                                 \n",
      " dense_9 (Dense)             (None, 64)                173120    \n",
      "                                                                 \n",
      " dropout_1 (Dropout)         (None, 64)                0         \n",
      "                                                                 \n",
      " dense_10 (Dense)            (None, 10)                650       \n",
      "                                                                 \n",
      "=================================================================\n",
      "Total params: 173,930\n",
      "Trainable params: 173,930\n",
      "Non-trainable params: 0\n",
      "_________________________________________________________________\n"
     ]
    }
   ],
   "source": [
    "from tensorflow.keras.models import load_model\n",
    "#ModelCheckPoint에 저장해둔 모델 로딩\n",
    "best_model = load_model(\"best_cnn_model.h5\")\n",
    "best_model.summary()"
   ]
  },
  {
   "cell_type": "code",
   "execution_count": null,
   "id": "660331c3",
   "metadata": {},
   "outputs": [],
   "source": []
  }
 ],
 "metadata": {
  "kernelspec": {
   "display_name": "Python 3 (ipykernel)",
   "language": "python",
   "name": "python3"
  },
  "language_info": {
   "codemirror_mode": {
    "name": "ipython",
    "version": 3
   },
   "file_extension": ".py",
   "mimetype": "text/x-python",
   "name": "python",
   "nbconvert_exporter": "python",
   "pygments_lexer": "ipython3",
   "version": "3.9.7"
  }
 },
 "nbformat": 4,
 "nbformat_minor": 5
}
