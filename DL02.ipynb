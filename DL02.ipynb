{
 "cells": [
  {
   "cell_type": "code",
   "execution_count": 1,
   "id": "ce93d578",
   "metadata": {},
   "outputs": [
    {
     "name": "stdout",
     "output_type": "stream",
     "text": [
      "시드 고정: 12\n"
     ]
    }
   ],
   "source": [
    "#필수 라이브러리\n",
    "import pandas as pd\n",
    "import numpy as np\n",
    "import random\n",
    "import tensorflow as tf\n",
    "\n",
    "#랜덤 시드 고정\n",
    "SEED=12\n",
    "random.seed(SEED)\n",
    "np.random.seed(SEED)\n",
    "tf.random.set_seed(SEED)\n",
    "print(\"시드 고정:\",SEED)"
   ]
  },
  {
   "cell_type": "code",
   "execution_count": 2,
   "id": "b9c5ca61",
   "metadata": {},
   "outputs": [
    {
     "name": "stdout",
     "output_type": "stream",
     "text": [
      "(5497, 14) (1000, 13) (1000, 2)\n"
     ]
    }
   ],
   "source": [
    "train = pd.read_csv(\"train.csv\")\n",
    "test = pd.read_csv(\"test.csv\")\n",
    "submission = pd.read_csv(\"sample_submission.csv\")\n",
    "\n",
    "print(train.shape, test.shape, submission.shape)"
   ]
  },
  {
   "cell_type": "code",
   "execution_count": 3,
   "id": "2b345340",
   "metadata": {},
   "outputs": [
    {
     "data": {
      "text/html": [
       "<div>\n",
       "<style scoped>\n",
       "    .dataframe tbody tr th:only-of-type {\n",
       "        vertical-align: middle;\n",
       "    }\n",
       "\n",
       "    .dataframe tbody tr th {\n",
       "        vertical-align: top;\n",
       "    }\n",
       "\n",
       "    .dataframe thead th {\n",
       "        text-align: right;\n",
       "    }\n",
       "</style>\n",
       "<table border=\"1\" class=\"dataframe\">\n",
       "  <thead>\n",
       "    <tr style=\"text-align: right;\">\n",
       "      <th></th>\n",
       "      <th>index</th>\n",
       "      <th>quality</th>\n",
       "      <th>fixed acidity</th>\n",
       "      <th>volatile acidity</th>\n",
       "      <th>citric acid</th>\n",
       "      <th>residual sugar</th>\n",
       "      <th>chlorides</th>\n",
       "      <th>free sulfur dioxide</th>\n",
       "      <th>total sulfur dioxide</th>\n",
       "      <th>density</th>\n",
       "      <th>pH</th>\n",
       "      <th>sulphates</th>\n",
       "      <th>alcohol</th>\n",
       "      <th>type</th>\n",
       "    </tr>\n",
       "  </thead>\n",
       "  <tbody>\n",
       "    <tr>\n",
       "      <th>0</th>\n",
       "      <td>0</td>\n",
       "      <td>5</td>\n",
       "      <td>5.6</td>\n",
       "      <td>0.695</td>\n",
       "      <td>0.06</td>\n",
       "      <td>6.8</td>\n",
       "      <td>0.042</td>\n",
       "      <td>9.0</td>\n",
       "      <td>84.0</td>\n",
       "      <td>0.99432</td>\n",
       "      <td>3.44</td>\n",
       "      <td>0.44</td>\n",
       "      <td>10.2</td>\n",
       "      <td>white</td>\n",
       "    </tr>\n",
       "    <tr>\n",
       "      <th>1</th>\n",
       "      <td>1</td>\n",
       "      <td>5</td>\n",
       "      <td>8.8</td>\n",
       "      <td>0.610</td>\n",
       "      <td>0.14</td>\n",
       "      <td>2.4</td>\n",
       "      <td>0.067</td>\n",
       "      <td>10.0</td>\n",
       "      <td>42.0</td>\n",
       "      <td>0.99690</td>\n",
       "      <td>3.19</td>\n",
       "      <td>0.59</td>\n",
       "      <td>9.5</td>\n",
       "      <td>red</td>\n",
       "    </tr>\n",
       "  </tbody>\n",
       "</table>\n",
       "</div>"
      ],
      "text/plain": [
       "   index  quality  fixed acidity  volatile acidity  citric acid  \\\n",
       "0      0        5            5.6             0.695         0.06   \n",
       "1      1        5            8.8             0.610         0.14   \n",
       "\n",
       "   residual sugar  chlorides  free sulfur dioxide  total sulfur dioxide  \\\n",
       "0             6.8      0.042                  9.0                  84.0   \n",
       "1             2.4      0.067                 10.0                  42.0   \n",
       "\n",
       "   density    pH  sulphates  alcohol   type  \n",
       "0  0.99432  3.44       0.44     10.2  white  \n",
       "1  0.99690  3.19       0.59      9.5    red  "
      ]
     },
     "execution_count": 3,
     "metadata": {},
     "output_type": "execute_result"
    }
   ],
   "source": [
    "train.head(2)"
   ]
  },
  {
   "cell_type": "code",
   "execution_count": 6,
   "id": "b2c02ee5",
   "metadata": {},
   "outputs": [
    {
     "data": {
      "text/html": [
       "<div>\n",
       "<style scoped>\n",
       "    .dataframe tbody tr th:only-of-type {\n",
       "        vertical-align: middle;\n",
       "    }\n",
       "\n",
       "    .dataframe tbody tr th {\n",
       "        vertical-align: top;\n",
       "    }\n",
       "\n",
       "    .dataframe thead th {\n",
       "        text-align: right;\n",
       "    }\n",
       "</style>\n",
       "<table border=\"1\" class=\"dataframe\">\n",
       "  <thead>\n",
       "    <tr style=\"text-align: right;\">\n",
       "      <th></th>\n",
       "      <th>index</th>\n",
       "      <th>quality</th>\n",
       "    </tr>\n",
       "  </thead>\n",
       "  <tbody>\n",
       "    <tr>\n",
       "      <th>0</th>\n",
       "      <td>0</td>\n",
       "      <td>0</td>\n",
       "    </tr>\n",
       "    <tr>\n",
       "      <th>1</th>\n",
       "      <td>1</td>\n",
       "      <td>0</td>\n",
       "    </tr>\n",
       "    <tr>\n",
       "      <th>2</th>\n",
       "      <td>2</td>\n",
       "      <td>0</td>\n",
       "    </tr>\n",
       "    <tr>\n",
       "      <th>3</th>\n",
       "      <td>3</td>\n",
       "      <td>0</td>\n",
       "    </tr>\n",
       "    <tr>\n",
       "      <th>4</th>\n",
       "      <td>4</td>\n",
       "      <td>0</td>\n",
       "    </tr>\n",
       "  </tbody>\n",
       "</table>\n",
       "</div>"
      ],
      "text/plain": [
       "   index  quality\n",
       "0      0        0\n",
       "1      1        0\n",
       "2      2        0\n",
       "3      3        0\n",
       "4      4        0"
      ]
     },
     "execution_count": 6,
     "metadata": {},
     "output_type": "execute_result"
    }
   ],
   "source": [
    "submission.head()"
   ]
  },
  {
   "cell_type": "code",
   "execution_count": 11,
   "id": "a968f51b",
   "metadata": {},
   "outputs": [
    {
     "data": {
      "text/plain": [
       "white    4159\n",
       "red      1338\n",
       "Name: type, dtype: int64"
      ]
     },
     "execution_count": 11,
     "metadata": {},
     "output_type": "execute_result"
    }
   ],
   "source": [
    "train['type'].value_counts()"
   ]
  },
  {
   "cell_type": "code",
   "execution_count": 13,
   "id": "06cbac0d",
   "metadata": {},
   "outputs": [
    {
     "data": {
      "text/plain": [
       "1    4159\n",
       "0    1338\n",
       "Name: type, dtype: int64"
      ]
     },
     "execution_count": 13,
     "metadata": {},
     "output_type": "execute_result"
    }
   ],
   "source": [
    "train['type']=np.where(train['type']=='white',1,0).astype(int)\n",
    "test['type']=np.where(test['type']=='white',1,0).astype(int)\n",
    "train['type'].value_counts()"
   ]
  },
  {
   "cell_type": "code",
   "execution_count": 14,
   "id": "5de77650",
   "metadata": {},
   "outputs": [
    {
     "data": {
      "text/plain": [
       "6    2416\n",
       "5    1788\n",
       "7     924\n",
       "4     186\n",
       "8     152\n",
       "3      26\n",
       "9       5\n",
       "Name: quality, dtype: int64"
      ]
     },
     "execution_count": 14,
     "metadata": {},
     "output_type": "execute_result"
    }
   ],
   "source": [
    "train['quality'].value_countscounts()"
   ]
  },
  {
   "cell_type": "code",
   "execution_count": 15,
   "id": "17744f02",
   "metadata": {},
   "outputs": [
    {
     "data": {
      "text/plain": [
       "array([[0., 0., 1., ..., 0., 0., 0.],\n",
       "       [0., 0., 1., ..., 0., 0., 0.],\n",
       "       [0., 0., 1., ..., 0., 0., 0.],\n",
       "       ...,\n",
       "       [0., 0., 0., ..., 1., 0., 0.],\n",
       "       [0., 0., 1., ..., 0., 0., 0.],\n",
       "       [0., 0., 0., ..., 0., 0., 0.]], dtype=float32)"
      ]
     },
     "execution_count": 15,
     "metadata": {},
     "output_type": "execute_result"
    }
   ],
   "source": [
    "from tensorflow.keras.utils import to_categorical\n",
    "\n",
    "y_train = to_categorical(train.loc[:,'quality']-3)\n",
    "y_train"
   ]
  },
  {
   "cell_type": "code",
   "execution_count": 19,
   "id": "f61d0e3c",
   "metadata": {},
   "outputs": [
    {
     "name": "stdout",
     "output_type": "stream",
     "text": [
      "(5497, 12) (5497, 7)\n",
      "(1000, 12)\n"
     ]
    }
   ],
   "source": [
    "#피처 선택\n",
    "X_train = train.loc[:,'fixed acidity':]\n",
    "X_test = test.loc[:,'fixed acidity':]\n",
    "\n",
    "#피처 스케일링\n",
    "from sklearn.preprocessing import MinMaxScaler\n",
    "scaler = MinMaxScaler()\n",
    "scaler.fit(X_train)\n",
    "X_train_scaled = scaler.fit_transform(X_train)\n",
    "X_test_scaled = scaler.fit_transform(X_test)\n",
    "\n",
    "print(X_train_scaled.shape, y_train.shape)\n",
    "print(X_test_scaled.shape)"
   ]
  },
  {
   "cell_type": "code",
   "execution_count": 23,
   "id": "c1f66f87",
   "metadata": {},
   "outputs": [
    {
     "name": "stdout",
     "output_type": "stream",
     "text": [
      "Model: \"sequential_2\"\n",
      "_________________________________________________________________\n",
      " Layer (type)                Output Shape              Param #   \n",
      "=================================================================\n",
      " dense_4 (Dense)             (None, 128)               1664      \n",
      "                                                                 \n",
      " dropout_2 (Dropout)         (None, 128)               0         \n",
      "                                                                 \n",
      " dense_5 (Dense)             (None, 64)                8256      \n",
      "                                                                 \n",
      " dropout_3 (Dropout)         (None, 64)                0         \n",
      "                                                                 \n",
      " dense_6 (Dense)             (None, 32)                2080      \n",
      "                                                                 \n",
      " dense_7 (Dense)             (None, 7)                 231       \n",
      "                                                                 \n",
      "=================================================================\n",
      "Total params: 12,231\n",
      "Trainable params: 12,231\n",
      "Non-trainable params: 0\n",
      "_________________________________________________________________\n"
     ]
    }
   ],
   "source": [
    "#심층 신경망 모델\n",
    "from tensorflow.keras import Sequential\n",
    "from tensorflow.keras.layers import Dense, Dropout\n",
    "\n",
    "def build_model(train_data, train_target):\n",
    "    model =Sequential()\n",
    "    model.add(Dense(128,activation='tanh', input_dim=train_data.shape[1]))\n",
    "    model.add(Dropout(0.2))\n",
    "    model.add(Dense(64,activation='tanh'))\n",
    "    model.add(Dropout(0.2))\n",
    "    model.add(Dense(32,activation='tanh'))\n",
    "    model.add(Dense(train_target.shape[1],activation='softmax'))\n",
    "    model.compile(optimizer='RMSProp', loss='categorical_crossentropy',\n",
    "                 metrics=['acc','mae'])\n",
    "    return model\n",
    "\n",
    "model = build_model(X_train_scaled,y_train)\n",
    "model.summary()"
   ]
  },
  {
   "cell_type": "code",
   "execution_count": 24,
   "id": "887b9416",
   "metadata": {},
   "outputs": [
    {
     "name": "stdout",
     "output_type": "stream",
     "text": [
      "Epoch 1/200\n",
      "73/73 - 2s - loss: 1.2884 - acc: 0.4741 - mae: 0.1916 - val_loss: 1.1380 - val_acc: 0.5212 - val_mae: 0.1771 - 2s/epoch - 21ms/step\n",
      "Epoch 2/200\n",
      "73/73 - 0s - loss: 1.1663 - acc: 0.5060 - mae: 0.1760 - val_loss: 1.0988 - val_acc: 0.5345 - val_mae: 0.1728 - 221ms/epoch - 3ms/step\n",
      "Epoch 3/200\n",
      "73/73 - 0s - loss: 1.1407 - acc: 0.5203 - mae: 0.1731 - val_loss: 1.0754 - val_acc: 0.5430 - val_mae: 0.1675 - 236ms/epoch - 3ms/step\n",
      "Epoch 4/200\n",
      "73/73 - 0s - loss: 1.1281 - acc: 0.5242 - mae: 0.1715 - val_loss: 1.1087 - val_acc: 0.5127 - val_mae: 0.1706 - 233ms/epoch - 3ms/step\n",
      "Epoch 5/200\n",
      "73/73 - 0s - loss: 1.1157 - acc: 0.5265 - mae: 0.1709 - val_loss: 1.0622 - val_acc: 0.5600 - val_mae: 0.1672 - 227ms/epoch - 3ms/step\n",
      "Epoch 6/200\n",
      "73/73 - 0s - loss: 1.1103 - acc: 0.5218 - mae: 0.1710 - val_loss: 1.0571 - val_acc: 0.5588 - val_mae: 0.1664 - 233ms/epoch - 3ms/step\n",
      "Epoch 7/200\n",
      "73/73 - 0s - loss: 1.1034 - acc: 0.5242 - mae: 0.1706 - val_loss: 1.0550 - val_acc: 0.5527 - val_mae: 0.1658 - 226ms/epoch - 3ms/step\n",
      "Epoch 8/200\n",
      "73/73 - 0s - loss: 1.1019 - acc: 0.5244 - mae: 0.1698 - val_loss: 1.0596 - val_acc: 0.5588 - val_mae: 0.1651 - 236ms/epoch - 3ms/step\n",
      "Epoch 9/200\n",
      "73/73 - 0s - loss: 1.0968 - acc: 0.5334 - mae: 0.1688 - val_loss: 1.0609 - val_acc: 0.5552 - val_mae: 0.1665 - 227ms/epoch - 3ms/step\n",
      "Epoch 10/200\n",
      "73/73 - 0s - loss: 1.0973 - acc: 0.5323 - mae: 0.1694 - val_loss: 1.0593 - val_acc: 0.5527 - val_mae: 0.1681 - 236ms/epoch - 3ms/step\n",
      "Epoch 11/200\n",
      "73/73 - 0s - loss: 1.0877 - acc: 0.5372 - mae: 0.1685 - val_loss: 1.0507 - val_acc: 0.5345 - val_mae: 0.1645 - 224ms/epoch - 3ms/step\n",
      "Epoch 12/200\n",
      "73/73 - 0s - loss: 1.0900 - acc: 0.5317 - mae: 0.1686 - val_loss: 1.0498 - val_acc: 0.5491 - val_mae: 0.1657 - 216ms/epoch - 3ms/step\n",
      "Epoch 13/200\n",
      "73/73 - 0s - loss: 1.0852 - acc: 0.5353 - mae: 0.1680 - val_loss: 1.0510 - val_acc: 0.5455 - val_mae: 0.1672 - 207ms/epoch - 3ms/step\n",
      "Epoch 14/200\n",
      "73/73 - 0s - loss: 1.0851 - acc: 0.5381 - mae: 0.1683 - val_loss: 1.0452 - val_acc: 0.5539 - val_mae: 0.1639 - 214ms/epoch - 3ms/step\n",
      "Epoch 15/200\n",
      "73/73 - 0s - loss: 1.0829 - acc: 0.5370 - mae: 0.1683 - val_loss: 1.0529 - val_acc: 0.5503 - val_mae: 0.1652 - 222ms/epoch - 3ms/step\n",
      "Epoch 16/200\n",
      "73/73 - 0s - loss: 1.0833 - acc: 0.5327 - mae: 0.1680 - val_loss: 1.0490 - val_acc: 0.5588 - val_mae: 0.1645 - 234ms/epoch - 3ms/step\n",
      "Epoch 17/200\n",
      "73/73 - 0s - loss: 1.0811 - acc: 0.5338 - mae: 0.1680 - val_loss: 1.0439 - val_acc: 0.5564 - val_mae: 0.1662 - 223ms/epoch - 3ms/step\n",
      "Epoch 18/200\n",
      "73/73 - 0s - loss: 1.0772 - acc: 0.5392 - mae: 0.1681 - val_loss: 1.0441 - val_acc: 0.5648 - val_mae: 0.1664 - 245ms/epoch - 3ms/step\n",
      "Epoch 19/200\n",
      "73/73 - 0s - loss: 1.0756 - acc: 0.5366 - mae: 0.1676 - val_loss: 1.0351 - val_acc: 0.5576 - val_mae: 0.1641 - 253ms/epoch - 3ms/step\n",
      "Epoch 20/200\n",
      "73/73 - 0s - loss: 1.0727 - acc: 0.5327 - mae: 0.1676 - val_loss: 1.0341 - val_acc: 0.5648 - val_mae: 0.1639 - 230ms/epoch - 3ms/step\n",
      "Epoch 21/200\n",
      "73/73 - 0s - loss: 1.0705 - acc: 0.5390 - mae: 0.1671 - val_loss: 1.0352 - val_acc: 0.5673 - val_mae: 0.1648 - 234ms/epoch - 3ms/step\n",
      "Epoch 22/200\n",
      "73/73 - 0s - loss: 1.0716 - acc: 0.5351 - mae: 0.1674 - val_loss: 1.0465 - val_acc: 0.5442 - val_mae: 0.1646 - 239ms/epoch - 3ms/step\n",
      "Epoch 23/200\n",
      "73/73 - 0s - loss: 1.0685 - acc: 0.5385 - mae: 0.1671 - val_loss: 1.0392 - val_acc: 0.5624 - val_mae: 0.1634 - 239ms/epoch - 3ms/step\n",
      "Epoch 24/200\n",
      "73/73 - 0s - loss: 1.0658 - acc: 0.5372 - mae: 0.1664 - val_loss: 1.0292 - val_acc: 0.5636 - val_mae: 0.1637 - 236ms/epoch - 3ms/step\n",
      "Epoch 25/200\n",
      "73/73 - 0s - loss: 1.0646 - acc: 0.5460 - mae: 0.1667 - val_loss: 1.0303 - val_acc: 0.5552 - val_mae: 0.1617 - 213ms/epoch - 3ms/step\n",
      "Epoch 26/200\n",
      "73/73 - 0s - loss: 1.0602 - acc: 0.5424 - mae: 0.1657 - val_loss: 1.0478 - val_acc: 0.5442 - val_mae: 0.1653 - 249ms/epoch - 3ms/step\n",
      "Epoch 27/200\n",
      "73/73 - 0s - loss: 1.0614 - acc: 0.5394 - mae: 0.1664 - val_loss: 1.0383 - val_acc: 0.5564 - val_mae: 0.1634 - 224ms/epoch - 3ms/step\n",
      "Epoch 28/200\n",
      "73/73 - 0s - loss: 1.0604 - acc: 0.5422 - mae: 0.1660 - val_loss: 1.0299 - val_acc: 0.5576 - val_mae: 0.1640 - 222ms/epoch - 3ms/step\n",
      "Epoch 29/200\n",
      "73/73 - 0s - loss: 1.0553 - acc: 0.5430 - mae: 0.1656 - val_loss: 1.0364 - val_acc: 0.5636 - val_mae: 0.1642 - 228ms/epoch - 3ms/step\n",
      "Epoch 30/200\n",
      "73/73 - 0s - loss: 1.0536 - acc: 0.5458 - mae: 0.1657 - val_loss: 1.0295 - val_acc: 0.5612 - val_mae: 0.1600 - 234ms/epoch - 3ms/step\n",
      "Epoch 31/200\n",
      "73/73 - 0s - loss: 1.0552 - acc: 0.5490 - mae: 0.1652 - val_loss: 1.0307 - val_acc: 0.5806 - val_mae: 0.1631 - 234ms/epoch - 3ms/step\n",
      "Epoch 32/200\n",
      "73/73 - 0s - loss: 1.0528 - acc: 0.5490 - mae: 0.1650 - val_loss: 1.0302 - val_acc: 0.5539 - val_mae: 0.1642 - 234ms/epoch - 3ms/step\n",
      "Epoch 33/200\n",
      "73/73 - 0s - loss: 1.0544 - acc: 0.5497 - mae: 0.1655 - val_loss: 1.0354 - val_acc: 0.5527 - val_mae: 0.1639 - 245ms/epoch - 3ms/step\n",
      "Epoch 34/200\n",
      "73/73 - 0s - loss: 1.0525 - acc: 0.5435 - mae: 0.1652 - val_loss: 1.0277 - val_acc: 0.5709 - val_mae: 0.1627 - 231ms/epoch - 3ms/step\n",
      "Epoch 35/200\n",
      "73/73 - 0s - loss: 1.0491 - acc: 0.5458 - mae: 0.1648 - val_loss: 1.0291 - val_acc: 0.5455 - val_mae: 0.1621 - 230ms/epoch - 3ms/step\n",
      "Epoch 36/200\n",
      "73/73 - 0s - loss: 1.0473 - acc: 0.5482 - mae: 0.1645 - val_loss: 1.0377 - val_acc: 0.5600 - val_mae: 0.1636 - 233ms/epoch - 3ms/step\n",
      "Epoch 37/200\n",
      "73/73 - 0s - loss: 1.0437 - acc: 0.5452 - mae: 0.1641 - val_loss: 1.0264 - val_acc: 0.5491 - val_mae: 0.1621 - 219ms/epoch - 3ms/step\n",
      "Epoch 38/200\n",
      "73/73 - 0s - loss: 1.0426 - acc: 0.5565 - mae: 0.1642 - val_loss: 1.0270 - val_acc: 0.5552 - val_mae: 0.1613 - 214ms/epoch - 3ms/step\n",
      "Epoch 39/200\n",
      "73/73 - 0s - loss: 1.0440 - acc: 0.5445 - mae: 0.1636 - val_loss: 1.0279 - val_acc: 0.5588 - val_mae: 0.1618 - 242ms/epoch - 3ms/step\n",
      "Epoch 40/200\n",
      "73/73 - 0s - loss: 1.0419 - acc: 0.5422 - mae: 0.1644 - val_loss: 1.0298 - val_acc: 0.5661 - val_mae: 0.1627 - 223ms/epoch - 3ms/step\n",
      "Epoch 41/200\n",
      "73/73 - 0s - loss: 1.0443 - acc: 0.5514 - mae: 0.1644 - val_loss: 1.0258 - val_acc: 0.5830 - val_mae: 0.1605 - 230ms/epoch - 3ms/step\n",
      "Epoch 42/200\n",
      "73/73 - 0s - loss: 1.0380 - acc: 0.5512 - mae: 0.1633 - val_loss: 1.0357 - val_acc: 0.5806 - val_mae: 0.1645 - 223ms/epoch - 3ms/step\n",
      "Epoch 43/200\n",
      "73/73 - 0s - loss: 1.0424 - acc: 0.5529 - mae: 0.1641 - val_loss: 1.0339 - val_acc: 0.5467 - val_mae: 0.1630 - 241ms/epoch - 3ms/step\n",
      "Epoch 44/200\n",
      "73/73 - 0s - loss: 1.0394 - acc: 0.5542 - mae: 0.1639 - val_loss: 1.0223 - val_acc: 0.5636 - val_mae: 0.1604 - 224ms/epoch - 3ms/step\n",
      "Epoch 45/200\n",
      "73/73 - 0s - loss: 1.0396 - acc: 0.5520 - mae: 0.1637 - val_loss: 1.0294 - val_acc: 0.5636 - val_mae: 0.1619 - 235ms/epoch - 3ms/step\n",
      "Epoch 46/200\n",
      "73/73 - 0s - loss: 1.0392 - acc: 0.5518 - mae: 0.1639 - val_loss: 1.0251 - val_acc: 0.5539 - val_mae: 0.1596 - 218ms/epoch - 3ms/step\n",
      "Epoch 47/200\n",
      "73/73 - 0s - loss: 1.0358 - acc: 0.5514 - mae: 0.1634 - val_loss: 1.0346 - val_acc: 0.5685 - val_mae: 0.1620 - 216ms/epoch - 3ms/step\n",
      "Epoch 48/200\n",
      "73/73 - 0s - loss: 1.0365 - acc: 0.5488 - mae: 0.1632 - val_loss: 1.0286 - val_acc: 0.5564 - val_mae: 0.1600 - 225ms/epoch - 3ms/step\n",
      "Epoch 49/200\n",
      "73/73 - 0s - loss: 1.0324 - acc: 0.5520 - mae: 0.1631 - val_loss: 1.0249 - val_acc: 0.5564 - val_mae: 0.1610 - 210ms/epoch - 3ms/step\n",
      "Epoch 50/200\n",
      "73/73 - 0s - loss: 1.0333 - acc: 0.5557 - mae: 0.1633 - val_loss: 1.0250 - val_acc: 0.5673 - val_mae: 0.1616 - 246ms/epoch - 3ms/step\n",
      "Epoch 51/200\n",
      "73/73 - 0s - loss: 1.0392 - acc: 0.5482 - mae: 0.1635 - val_loss: 1.0248 - val_acc: 0.5818 - val_mae: 0.1614 - 237ms/epoch - 3ms/step\n",
      "Epoch 52/200\n",
      "73/73 - 0s - loss: 1.0366 - acc: 0.5533 - mae: 0.1630 - val_loss: 1.0363 - val_acc: 0.5394 - val_mae: 0.1639 - 234ms/epoch - 3ms/step\n",
      "Epoch 53/200\n",
      "73/73 - 0s - loss: 1.0301 - acc: 0.5537 - mae: 0.1630 - val_loss: 1.0238 - val_acc: 0.5697 - val_mae: 0.1603 - 255ms/epoch - 3ms/step\n",
      "Epoch 54/200\n",
      "73/73 - 0s - loss: 1.0322 - acc: 0.5537 - mae: 0.1630 - val_loss: 1.0211 - val_acc: 0.5612 - val_mae: 0.1611 - 260ms/epoch - 4ms/step\n",
      "Epoch 55/200\n",
      "73/73 - 0s - loss: 1.0308 - acc: 0.5524 - mae: 0.1626 - val_loss: 1.0239 - val_acc: 0.5818 - val_mae: 0.1617 - 220ms/epoch - 3ms/step\n",
      "Epoch 56/200\n",
      "73/73 - 0s - loss: 1.0295 - acc: 0.5499 - mae: 0.1626 - val_loss: 1.0183 - val_acc: 0.5612 - val_mae: 0.1597 - 221ms/epoch - 3ms/step\n"
     ]
    },
    {
     "name": "stdout",
     "output_type": "stream",
     "text": [
      "Epoch 57/200\n",
      "73/73 - 0s - loss: 1.0288 - acc: 0.5634 - mae: 0.1625 - val_loss: 1.0208 - val_acc: 0.5709 - val_mae: 0.1617 - 246ms/epoch - 3ms/step\n",
      "Epoch 58/200\n",
      "73/73 - 0s - loss: 1.0275 - acc: 0.5584 - mae: 0.1621 - val_loss: 1.0168 - val_acc: 0.5733 - val_mae: 0.1599 - 225ms/epoch - 3ms/step\n",
      "Epoch 59/200\n",
      "73/73 - 0s - loss: 1.0253 - acc: 0.5621 - mae: 0.1620 - val_loss: 1.0234 - val_acc: 0.5661 - val_mae: 0.1615 - 232ms/epoch - 3ms/step\n",
      "Epoch 60/200\n",
      "73/73 - 0s - loss: 1.0269 - acc: 0.5586 - mae: 0.1624 - val_loss: 1.0230 - val_acc: 0.5685 - val_mae: 0.1594 - 241ms/epoch - 3ms/step\n",
      "Epoch 61/200\n",
      "73/73 - 0s - loss: 1.0312 - acc: 0.5599 - mae: 0.1627 - val_loss: 1.0181 - val_acc: 0.5515 - val_mae: 0.1590 - 235ms/epoch - 3ms/step\n",
      "Epoch 62/200\n",
      "73/73 - 0s - loss: 1.0266 - acc: 0.5542 - mae: 0.1621 - val_loss: 1.0282 - val_acc: 0.5600 - val_mae: 0.1610 - 246ms/epoch - 3ms/step\n",
      "Epoch 63/200\n",
      "73/73 - 0s - loss: 1.0235 - acc: 0.5681 - mae: 0.1618 - val_loss: 1.0220 - val_acc: 0.5467 - val_mae: 0.1606 - 249ms/epoch - 3ms/step\n",
      "Epoch 64/200\n",
      "73/73 - 0s - loss: 1.0230 - acc: 0.5621 - mae: 0.1619 - val_loss: 1.0160 - val_acc: 0.5733 - val_mae: 0.1583 - 240ms/epoch - 3ms/step\n",
      "Epoch 65/200\n",
      "73/73 - 0s - loss: 1.0244 - acc: 0.5616 - mae: 0.1615 - val_loss: 1.0200 - val_acc: 0.5648 - val_mae: 0.1596 - 245ms/epoch - 3ms/step\n",
      "Epoch 66/200\n",
      "73/73 - 0s - loss: 1.0234 - acc: 0.5599 - mae: 0.1615 - val_loss: 1.0213 - val_acc: 0.5661 - val_mae: 0.1618 - 231ms/epoch - 3ms/step\n",
      "Epoch 67/200\n",
      "73/73 - 0s - loss: 1.0214 - acc: 0.5657 - mae: 0.1616 - val_loss: 1.0280 - val_acc: 0.5758 - val_mae: 0.1597 - 250ms/epoch - 3ms/step\n",
      "Epoch 68/200\n",
      "73/73 - 0s - loss: 1.0210 - acc: 0.5649 - mae: 0.1614 - val_loss: 1.0165 - val_acc: 0.5624 - val_mae: 0.1600 - 233ms/epoch - 3ms/step\n",
      "Epoch 69/200\n",
      "73/73 - 0s - loss: 1.0247 - acc: 0.5681 - mae: 0.1617 - val_loss: 1.0203 - val_acc: 0.5648 - val_mae: 0.1603 - 233ms/epoch - 3ms/step\n",
      "Epoch 70/200\n",
      "73/73 - 0s - loss: 1.0201 - acc: 0.5612 - mae: 0.1612 - val_loss: 1.0222 - val_acc: 0.5733 - val_mae: 0.1595 - 223ms/epoch - 3ms/step\n",
      "Epoch 71/200\n",
      "73/73 - 0s - loss: 1.0201 - acc: 0.5574 - mae: 0.1615 - val_loss: 1.0177 - val_acc: 0.5648 - val_mae: 0.1592 - 223ms/epoch - 3ms/step\n",
      "Epoch 72/200\n",
      "73/73 - 0s - loss: 1.0248 - acc: 0.5535 - mae: 0.1619 - val_loss: 1.0144 - val_acc: 0.5745 - val_mae: 0.1593 - 219ms/epoch - 3ms/step\n",
      "Epoch 73/200\n",
      "73/73 - 0s - loss: 1.0175 - acc: 0.5608 - mae: 0.1613 - val_loss: 1.0195 - val_acc: 0.5673 - val_mae: 0.1604 - 240ms/epoch - 3ms/step\n",
      "Epoch 74/200\n",
      "73/73 - 0s - loss: 1.0244 - acc: 0.5616 - mae: 0.1618 - val_loss: 1.0147 - val_acc: 0.5588 - val_mae: 0.1589 - 225ms/epoch - 3ms/step\n",
      "Epoch 75/200\n",
      "73/73 - 0s - loss: 1.0202 - acc: 0.5623 - mae: 0.1612 - val_loss: 1.0210 - val_acc: 0.5794 - val_mae: 0.1615 - 224ms/epoch - 3ms/step\n",
      "Epoch 76/200\n",
      "73/73 - 0s - loss: 1.0166 - acc: 0.5612 - mae: 0.1616 - val_loss: 1.0169 - val_acc: 0.5685 - val_mae: 0.1591 - 245ms/epoch - 3ms/step\n",
      "Epoch 77/200\n",
      "73/73 - 0s - loss: 1.0124 - acc: 0.5706 - mae: 0.1609 - val_loss: 1.0213 - val_acc: 0.5685 - val_mae: 0.1591 - 223ms/epoch - 3ms/step\n",
      "Epoch 78/200\n",
      "73/73 - 0s - loss: 1.0200 - acc: 0.5631 - mae: 0.1612 - val_loss: 1.0150 - val_acc: 0.5709 - val_mae: 0.1593 - 230ms/epoch - 3ms/step\n",
      "Epoch 79/200\n",
      "73/73 - 0s - loss: 1.0219 - acc: 0.5634 - mae: 0.1612 - val_loss: 1.0136 - val_acc: 0.5479 - val_mae: 0.1588 - 224ms/epoch - 3ms/step\n",
      "Epoch 80/200\n",
      "73/73 - 0s - loss: 1.0141 - acc: 0.5644 - mae: 0.1610 - val_loss: 1.0232 - val_acc: 0.5515 - val_mae: 0.1610 - 231ms/epoch - 3ms/step\n",
      "Epoch 81/200\n",
      "73/73 - 0s - loss: 1.0109 - acc: 0.5674 - mae: 0.1609 - val_loss: 1.0163 - val_acc: 0.5806 - val_mae: 0.1576 - 213ms/epoch - 3ms/step\n",
      "Epoch 82/200\n",
      "73/73 - 0s - loss: 1.0153 - acc: 0.5646 - mae: 0.1607 - val_loss: 1.0169 - val_acc: 0.5709 - val_mae: 0.1586 - 212ms/epoch - 3ms/step\n",
      "Epoch 83/200\n",
      "73/73 - 0s - loss: 1.0177 - acc: 0.5591 - mae: 0.1610 - val_loss: 1.0161 - val_acc: 0.5612 - val_mae: 0.1602 - 217ms/epoch - 3ms/step\n",
      "Epoch 84/200\n",
      "73/73 - 0s - loss: 1.0153 - acc: 0.5621 - mae: 0.1608 - val_loss: 1.0141 - val_acc: 0.5661 - val_mae: 0.1584 - 217ms/epoch - 3ms/step\n",
      "Epoch 85/200\n",
      "73/73 - 0s - loss: 1.0154 - acc: 0.5631 - mae: 0.1611 - val_loss: 1.0152 - val_acc: 0.5794 - val_mae: 0.1601 - 227ms/epoch - 3ms/step\n",
      "Epoch 86/200\n",
      "73/73 - 0s - loss: 1.0124 - acc: 0.5653 - mae: 0.1608 - val_loss: 1.0128 - val_acc: 0.5721 - val_mae: 0.1585 - 228ms/epoch - 3ms/step\n",
      "Epoch 87/200\n",
      "73/73 - 0s - loss: 1.0134 - acc: 0.5610 - mae: 0.1604 - val_loss: 1.0155 - val_acc: 0.5794 - val_mae: 0.1597 - 228ms/epoch - 3ms/step\n",
      "Epoch 88/200\n",
      "73/73 - 0s - loss: 1.0140 - acc: 0.5689 - mae: 0.1609 - val_loss: 1.0144 - val_acc: 0.5782 - val_mae: 0.1581 - 227ms/epoch - 3ms/step\n",
      "Epoch 89/200\n",
      "73/73 - 0s - loss: 1.0150 - acc: 0.5644 - mae: 0.1608 - val_loss: 1.0148 - val_acc: 0.5661 - val_mae: 0.1580 - 226ms/epoch - 3ms/step\n",
      "Epoch 90/200\n",
      "73/73 - 0s - loss: 1.0133 - acc: 0.5696 - mae: 0.1603 - val_loss: 1.0175 - val_acc: 0.5745 - val_mae: 0.1589 - 236ms/epoch - 3ms/step\n",
      "Epoch 91/200\n",
      "73/73 - 0s - loss: 1.0092 - acc: 0.5668 - mae: 0.1606 - val_loss: 1.0167 - val_acc: 0.5600 - val_mae: 0.1577 - 225ms/epoch - 3ms/step\n",
      "Epoch 92/200\n",
      "73/73 - 0s - loss: 1.0124 - acc: 0.5649 - mae: 0.1602 - val_loss: 1.0136 - val_acc: 0.5648 - val_mae: 0.1583 - 239ms/epoch - 3ms/step\n",
      "Epoch 93/200\n",
      "73/73 - 0s - loss: 1.0141 - acc: 0.5693 - mae: 0.1608 - val_loss: 1.0119 - val_acc: 0.5697 - val_mae: 0.1578 - 214ms/epoch - 3ms/step\n",
      "Epoch 94/200\n",
      "73/73 - 0s - loss: 1.0115 - acc: 0.5666 - mae: 0.1599 - val_loss: 1.0237 - val_acc: 0.5673 - val_mae: 0.1612 - 213ms/epoch - 3ms/step\n",
      "Epoch 95/200\n",
      "73/73 - 0s - loss: 1.0084 - acc: 0.5664 - mae: 0.1601 - val_loss: 1.0178 - val_acc: 0.5867 - val_mae: 0.1601 - 219ms/epoch - 3ms/step\n",
      "Epoch 96/200\n",
      "73/73 - 0s - loss: 1.0086 - acc: 0.5614 - mae: 0.1605 - val_loss: 1.0193 - val_acc: 0.5806 - val_mae: 0.1600 - 212ms/epoch - 3ms/step\n",
      "Epoch 97/200\n",
      "73/73 - 0s - loss: 1.0061 - acc: 0.5702 - mae: 0.1598 - val_loss: 1.0133 - val_acc: 0.5758 - val_mae: 0.1580 - 230ms/epoch - 3ms/step\n",
      "Epoch 98/200\n",
      "73/73 - 0s - loss: 1.0086 - acc: 0.5689 - mae: 0.1600 - val_loss: 1.0159 - val_acc: 0.5818 - val_mae: 0.1589 - 234ms/epoch - 3ms/step\n",
      "Epoch 99/200\n",
      "73/73 - 0s - loss: 1.0129 - acc: 0.5629 - mae: 0.1606 - val_loss: 1.0153 - val_acc: 0.5818 - val_mae: 0.1576 - 227ms/epoch - 3ms/step\n",
      "Epoch 100/200\n",
      "73/73 - 0s - loss: 1.0065 - acc: 0.5681 - mae: 0.1595 - val_loss: 1.0173 - val_acc: 0.5806 - val_mae: 0.1595 - 245ms/epoch - 3ms/step\n",
      "Epoch 101/200\n",
      "73/73 - 0s - loss: 1.0056 - acc: 0.5672 - mae: 0.1601 - val_loss: 1.0163 - val_acc: 0.5721 - val_mae: 0.1587 - 255ms/epoch - 3ms/step\n",
      "Epoch 102/200\n",
      "73/73 - 0s - loss: 1.0080 - acc: 0.5595 - mae: 0.1598 - val_loss: 1.0142 - val_acc: 0.5770 - val_mae: 0.1586 - 266ms/epoch - 4ms/step\n",
      "Epoch 103/200\n",
      "73/73 - 0s - loss: 1.0058 - acc: 0.5670 - mae: 0.1601 - val_loss: 1.0165 - val_acc: 0.5685 - val_mae: 0.1582 - 239ms/epoch - 3ms/step\n"
     ]
    }
   ],
   "source": [
    "#Early Stopping 기법\n",
    "from sklearn.model_selection import train_test_split\n",
    "from tensorflow.keras.callbacks import EarlyStopping\n",
    "\n",
    "X_tr, X_val, y_tr, y_val = train_test_split(X_train_scaled,y_train,test_size=0.15,\n",
    "                                           shuffle=True,random_state=SEED)\n",
    "early_stopping = EarlyStopping(monitor='val_loss',patience=10)\n",
    "history = model.fit(X_tr, y_tr, batch_size=64, epochs=200,\n",
    "                   validation_data=(X_val,y_val),\n",
    "                   callbacks=[early_stopping],\n",
    "                   verbose=2)"
   ]
  },
  {
   "cell_type": "code",
   "execution_count": 25,
   "id": "6e91f029",
   "metadata": {},
   "outputs": [
    {
     "name": "stdout",
     "output_type": "stream",
     "text": [
      "26/26 [==============================] - 0s 2ms/step - loss: 1.0165 - acc: 0.5685 - mae: 0.1582\n"
     ]
    },
    {
     "data": {
      "text/plain": [
       "[1.0165252685546875, 0.5684848427772522, 0.15824899077415466]"
      ]
     },
     "execution_count": 25,
     "metadata": {},
     "output_type": "execute_result"
    }
   ],
   "source": [
    "model.evaluate(X_val,y_val)"
   ]
  },
  {
   "cell_type": "code",
   "execution_count": 26,
   "id": "4007891c",
   "metadata": {},
   "outputs": [
    {
     "name": "stdout",
     "output_type": "stream",
     "text": [
      "32/32 [==============================] - 0s 2ms/step\n"
     ]
    },
    {
     "data": {
      "text/plain": [
       "array([[0.5069378 , 0.00648227, 0.01839712, 0.02292223, 0.10277011,\n",
       "        0.09292174, 0.24956875],\n",
       "       [0.2590956 , 0.00084169, 0.00169764, 0.00629539, 0.05462304,\n",
       "        0.02197545, 0.65547115],\n",
       "       [0.5139195 , 0.00582294, 0.0127828 , 0.0138494 , 0.06186216,\n",
       "        0.06758921, 0.32417405],\n",
       "       [0.42302972, 0.01945269, 0.0370989 , 0.0694959 , 0.16308554,\n",
       "        0.20327477, 0.08456258],\n",
       "       [0.36491564, 0.00206718, 0.00441601, 0.00686246, 0.05680372,\n",
       "        0.03112555, 0.5338094 ]], dtype=float32)"
      ]
     },
     "execution_count": 26,
     "metadata": {},
     "output_type": "execute_result"
    }
   ],
   "source": [
    "#test 데이터에 대한 예측값 정리\n",
    "y_pred_proba = model.predict(X_test)\n",
    "y_pred_proba[:5]"
   ]
  },
  {
   "cell_type": "code",
   "execution_count": 27,
   "id": "69d37b03",
   "metadata": {},
   "outputs": [
    {
     "data": {
      "text/plain": [
       "array([3, 9, 3, 3, 9], dtype=int64)"
      ]
     },
     "execution_count": 27,
     "metadata": {},
     "output_type": "execute_result"
    }
   ],
   "source": [
    "y_pred_label = np.argmax(y_pred_proba, axis=-1) + 3\n",
    "y_pred_label[:5]"
   ]
  },
  {
   "cell_type": "code",
   "execution_count": 28,
   "id": "459ec577",
   "metadata": {},
   "outputs": [
    {
     "data": {
      "text/html": [
       "<div>\n",
       "<style scoped>\n",
       "    .dataframe tbody tr th:only-of-type {\n",
       "        vertical-align: middle;\n",
       "    }\n",
       "\n",
       "    .dataframe tbody tr th {\n",
       "        vertical-align: top;\n",
       "    }\n",
       "\n",
       "    .dataframe thead th {\n",
       "        text-align: right;\n",
       "    }\n",
       "</style>\n",
       "<table border=\"1\" class=\"dataframe\">\n",
       "  <thead>\n",
       "    <tr style=\"text-align: right;\">\n",
       "      <th></th>\n",
       "      <th>index</th>\n",
       "      <th>quality</th>\n",
       "    </tr>\n",
       "  </thead>\n",
       "  <tbody>\n",
       "    <tr>\n",
       "      <th>0</th>\n",
       "      <td>0</td>\n",
       "      <td>3</td>\n",
       "    </tr>\n",
       "    <tr>\n",
       "      <th>1</th>\n",
       "      <td>1</td>\n",
       "      <td>9</td>\n",
       "    </tr>\n",
       "    <tr>\n",
       "      <th>2</th>\n",
       "      <td>2</td>\n",
       "      <td>3</td>\n",
       "    </tr>\n",
       "    <tr>\n",
       "      <th>3</th>\n",
       "      <td>3</td>\n",
       "      <td>3</td>\n",
       "    </tr>\n",
       "    <tr>\n",
       "      <th>4</th>\n",
       "      <td>4</td>\n",
       "      <td>9</td>\n",
       "    </tr>\n",
       "  </tbody>\n",
       "</table>\n",
       "</div>"
      ],
      "text/plain": [
       "   index  quality\n",
       "0      0        3\n",
       "1      1        9\n",
       "2      2        3\n",
       "3      3        3\n",
       "4      4        9"
      ]
     },
     "execution_count": 28,
     "metadata": {},
     "output_type": "execute_result"
    }
   ],
   "source": [
    "submission['quality'] = y_pred_label.astype(int)\n",
    "submission.head()"
   ]
  },
  {
   "cell_type": "code",
   "execution_count": null,
   "id": "55d5edc7",
   "metadata": {},
   "outputs": [],
   "source": []
  }
 ],
 "metadata": {
  "kernelspec": {
   "display_name": "Python 3 (ipykernel)",
   "language": "python",
   "name": "python3"
  },
  "language_info": {
   "codemirror_mode": {
    "name": "ipython",
    "version": 3
   },
   "file_extension": ".py",
   "mimetype": "text/x-python",
   "name": "python",
   "nbconvert_exporter": "python",
   "pygments_lexer": "ipython3",
   "version": "3.9.7"
  }
 },
 "nbformat": 4,
 "nbformat_minor": 5
}
